{
  "nbformat": 4,
  "nbformat_minor": 0,
  "metadata": {
    "colab": {
      "provenance": [],
      "authorship_tag": "ABX9TyOeXIMXQ+7CSrZa44yYrKi3",
      "include_colab_link": true
    },
    "kernelspec": {
      "name": "python3",
      "display_name": "Python 3"
    },
    "language_info": {
      "name": "python"
    }
  },
  "cells": [
    {
      "cell_type": "markdown",
      "metadata": {
        "id": "view-in-github",
        "colab_type": "text"
      },
      "source": [
        "<a href=\"https://colab.research.google.com/github/Chirag314/Practice/blob/main/Nested_CV_example.ipynb\" target=\"_parent\"><img src=\"https://colab.research.google.com/assets/colab-badge.svg\" alt=\"Open In Colab\"/></a>"
      ]
    },
    {
      "cell_type": "code",
      "execution_count": 1,
      "metadata": {
        "id": "9YYz2pjwm97g"
      },
      "outputs": [],
      "source": [
        "import numpy as np\n",
        "from sklearn.datasets import load_iris\n",
        "from sklearn.model_selection import cross_val_score, GridSearchCV\n",
        "from sklearn.svm import SVC\n",
        "\n"
      ]
    },
    {
      "cell_type": "code",
      "source": [
        "#load data\n",
        "X,y=load_iris(return_X_y=True)"
      ],
      "metadata": {
        "id": "HQBrgO_nnOYC"
      },
      "execution_count": 2,
      "outputs": []
    },
    {
      "cell_type": "markdown",
      "source": [
        "The outer loop splits the data into K folds, typically using k-fold cross-validation. Each fold serves as a hold-out validation set while the rest of the data forms the training set. The model is evaluated K times, each time using a different fold as the validation set. The final performance score is the average of the scores obtained from all the iterations."
      ],
      "metadata": {
        "id": "MqUVj-nXnYXz"
      }
    },
    {
      "cell_type": "code",
      "source": [
        "from sklearn.model_selection import KFold\n",
        "\n",
        "outer_folds=5\n",
        "\n",
        "outer_cv=KFold(n_splits=outer_folds,shuffle=True,random_state=42)\n",
        "\n",
        "outer_scores=[]"
      ],
      "metadata": {
        "id": "Axf0H82SnXyD"
      },
      "execution_count": 3,
      "outputs": []
    },
    {
      "cell_type": "markdown",
      "source": [
        "Inner Cross-Validation Loop (Hyperparameter Tuning)\n",
        "The inner loop is used for hyperparameter tuning. It also uses k-fold cross-validation to select the best hyperparameters for the model. For each set of hyperparameters, the model is trained on the training set (from the outer loop) and evaluated on the validation set (from the outer loop). The best hyperparameters are determined based on the average performance across all the inner fold iterations."
      ],
      "metadata": {
        "id": "8dEBk1uBnuL_"
      }
    },
    {
      "cell_type": "code",
      "source": [
        "param_grid={'C':[0.1,1,10],\n",
        "            'kernel':['linear','rbf']}\n",
        "#initialize inner cv grid search\n",
        "inner_cv=KFold(n_splits=3,shuffle=True,random_state=42)\n",
        "\n",
        "svm_clf=SVC()\n",
        "\n",
        "grid_search=GridSearchCV(estimator=svm_clf,param_grid=param_grid,cv=inner_cv)"
      ],
      "metadata": {
        "id": "JYnn3Nnqnv4V"
      },
      "execution_count": 4,
      "outputs": []
    },
    {
      "cell_type": "markdown",
      "source": [
        "Perform nested CV: we loop through the outer folds and for each fold, we perform hyperparameter tuing using the inner CV. We then train the model on the training set(excluding the validation fold) and evaluate its performance on the validation set."
      ],
      "metadata": {
        "id": "-FRhlRYFoPtS"
      }
    },
    {
      "cell_type": "code",
      "source": [
        "#Nested CV\n",
        "for train_index,test_index in outer_cv.split(X):\n",
        "  X_train,X_test=X[train_index],X[test_index]\n",
        "  y_train,y_test=y[train_index],y[test_index]\n",
        "\n",
        "  #hyperparameter tuning using inner CV\n",
        "  grid_search.fit(X_train,y_train)\n",
        "\n",
        "  # Get the best estimator with tuned hyperparamets\n",
        "  best_svm_clf=grid_search.best_estimator_\n",
        "\n",
        "  # valuate on validation set\n",
        "  score=best_svm_clf.score(X_test,y_test)\n",
        "  outer_scores.append(score)\n",
        "\n",
        "# Final score\n",
        "mean_score=np.mean(outer_scores)\n",
        "print(\"NEsted CV mean accuracy:\", mean_score)"
      ],
      "metadata": {
        "colab": {
          "base_uri": "https://localhost:8080/"
        },
        "id": "wK1mNyB0nTli",
        "outputId": "87f9f116-ffb0-49d3-a0f8-5b95cee6767f"
      },
      "execution_count": 5,
      "outputs": [
        {
          "output_type": "stream",
          "name": "stdout",
          "text": [
            "NEsted CV mean accuracy: 0.9733333333333334\n"
          ]
        }
      ]
    },
    {
      "cell_type": "markdown",
      "source": [],
      "metadata": {
        "id": "vMorF9YMvWn6"
      }
    },
    {
      "cell_type": "markdown",
      "source": [],
      "metadata": {
        "id": "RbnJc2D4vWka"
      }
    },
    {
      "cell_type": "markdown",
      "source": [
        "Combine nested CV with different seeds with same base learner"
      ],
      "metadata": {
        "id": "OSnRQrVgvWaz"
      }
    },
    {
      "cell_type": "code",
      "source": [
        "import numpy as np\n",
        "from sklearn.datasets import load_iris\n",
        "from sklearn.model_selection import KFold, cross_val_score\n",
        "from sklearn.ensemble import RandomForestClassifier\n",
        "\n",
        "X,y=load_iris(return_X_y=True)\n",
        "\n",
        "outer_folds=5\n",
        "outer_cv=KFold(n_splits=outer_folds, shuffle=True, random_state=42)\n",
        "outer_socres=[]\n",
        "\n",
        "seed_values=[123,234,345]\n",
        "\n",
        "for trian_index,test_index in outer_cv.split(X):\n",
        "  X_train,X_test=X[train_index],X[test_index]\n",
        "  y_train,y_test=y[train_index],y[test_index]\n",
        "\n",
        "  prediction=[]\n",
        "\n",
        "  for seed in seed_values:\n",
        "    base_learner=RandomForestClassifier(random_state=seed)\n",
        "\n",
        "    base_learner.fit(X_train,y_train)\n",
        "\n",
        "    y_pred=base_learner.predict(X_test)\n",
        "\n",
        "    prediction.append(y_pred)\n",
        "\n",
        "  ensemble_predictins=sum(prediction)/len(prediction)\n",
        "\n",
        "  accuracy=np.mean(ensemble_predictins==y_test)\n",
        "\n",
        "  outer_scores.append(accuracy)\n",
        "\n",
        "mean_accuracy=np.mean(outer_scores)\n",
        "\n",
        "print(\"Nested CV mean accuracy:\",mean_accuracy)\n",
        "\n"
      ],
      "metadata": {
        "colab": {
          "base_uri": "https://localhost:8080/"
        },
        "id": "zBfUdNBGvhIJ",
        "outputId": "dc696646-da58-4558-dee7-b71aa245e759"
      },
      "execution_count": 6,
      "outputs": [
        {
          "output_type": "stream",
          "name": "stdout",
          "text": [
            "Nested CV mean accuracy: 0.9833333333333334\n"
          ]
        }
      ]
    },
    {
      "cell_type": "markdown",
      "source": [
        "Combine the nested cross-validation technique for model selection and hyperparameter tuning, with the ensemble of a single base learner using different seeds."
      ],
      "metadata": {
        "id": "LGXQP1NXx32M"
      }
    },
    {
      "cell_type": "code",
      "source": [
        "import numpy as np\n",
        "from sklearn.datasets import load_iris\n",
        "from sklearn.model_selection import KFold, GridSearchCV\n",
        "from sklearn.ensemble import RandomForestClassifier,GradientBoostingClassifier\n",
        "from sklearn.svm import SVC\n",
        "\n",
        "X,y=load_iris(return_X_y=True)\n",
        "\n",
        "outer_folds=5\n",
        "outer_cv=KFold(n_splits=outer_folds,shuffle=True, random_state=42)\n",
        "outer_scores=[]\n",
        "\n",
        "#Define different models\n",
        "\n",
        "models={\n",
        "    'RandomForest':(RandomForestClassifier(),{\n",
        "        'n_estimators':[50,100,150],\n",
        "        'max_depth':[None,5,10],\n",
        "        'min_samples_split':[2,5]\n",
        "    } ),\n",
        "    'SVM':(SVC(),{\n",
        "        'C':[1,10,100],\n",
        "        'kernel':['linear','rbf']\n",
        "    }),\n",
        "    'GradientBoosting':(GradientBoostingClassifier(),{\n",
        "        'n_estimators':[50,100,150],\n",
        "        'learning_rate':[0.1,0.01],\n",
        "        'max_depth':[3,5]\n",
        "\n",
        "    })\n",
        "}\n",
        "\n",
        "seed_values=[324,562,987]\n",
        "\n",
        "for train_index,test_index in outer_cv.split(X):\n",
        "  X_train,X_test=X[train_index],X[test_index]\n",
        "  y_train,y_test=y[train_index],y[test_index]\n",
        "\n",
        "  predictions=[]\n",
        "\n",
        "  for model_name,(model, param_grid) in models.items():\n",
        "    inner_cv=KFold(n_splits=3,shuffle=True, random_state=42)\n",
        "    grid_search=GridSearchCV(estimator=model, param_grid=param_grid,cv=inner_cv)\n",
        "\n",
        "    grid_search.fit(X_train,y_train)\n",
        "    best_model=grid_search.best_estimator_\n",
        "\n",
        "    model_predictions=[]\n",
        "\n",
        "    for seed in seed_values:\n",
        "      base_learner=best_model.__class__(**best_model.get_params())\n",
        "      base_learner.set_params(random_state=seed)\n",
        "      base_learner.fit(X_train,y_train)\n",
        "      y_pred=base_learner.predict(X_test)\n",
        "      model_predictions.append(y_pred)\n",
        "\n",
        "    ensemble_predictions=sum(model_predictions)/len(model_predictions)\n",
        "    predictions.append(ensemble_predictions)\n",
        "  accuracies=[np.mean(pred==y_test) for pred in predictions]\n",
        "  outer_scores.append(accuracies)\n",
        "\n",
        "mean_scores=np.mean(outer_scores,axis=0)\n",
        "model_names=list(models.keys())\n",
        "\n",
        "for name,score in zip(model_names,mean_scores):\n",
        "  print(f\"{name} - Mean Accuracy : {score: .4f}\")\n",
        "\n"
      ],
      "metadata": {
        "colab": {
          "base_uri": "https://localhost:8080/"
        },
        "id": "aR8CI8M5x5qH",
        "outputId": "272c4fe2-36a2-4072-bbfb-bfbe198fd70a"
      },
      "execution_count": 9,
      "outputs": [
        {
          "output_type": "stream",
          "name": "stdout",
          "text": [
            "RandomForest - Mean Accuracy :  0.9533\n",
            "SVM - Mean Accuracy :  0.9667\n",
            "GradientBoosting - Mean Accuracy :  0.9533\n"
          ]
        }
      ]
    }
  ]
}